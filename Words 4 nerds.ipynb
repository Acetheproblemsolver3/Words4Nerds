{
 "cells": [
  {
   "cell_type": "code",
   "execution_count": 52,
   "metadata": {},
   "outputs": [],
   "source": [
    "import random\n"
   ]
  },
  {
   "cell_type": "code",
   "execution_count": 53,
   "metadata": {
    "tags": []
   },
   "outputs": [],
   "source": [
    "game_title = \"Words 4 nerds\""
   ]
  },
  {
   "cell_type": "code",
   "execution_count": 54,
   "metadata": {},
   "outputs": [],
   "source": [
    "word_bank = []"
   ]
  },
  {
   "cell_type": "code",
   "execution_count": 55,
   "metadata": {
    "tags": []
   },
   "outputs": [],
   "source": [
    "\n",
    "with open(\"words.txt\") as word_file:\n",
    "    for line in word_file:\n",
    "       word_bank.append(line.rstrip().lower())\n",
    "    \n",
    "        \n",
    "    \n"
   ]
  },
  {
   "cell_type": "code",
   "execution_count": 69,
   "metadata": {},
   "outputs": [],
   "source": [
    "words_to_guess = random.choice(word_bank)"
   ]
  },
  {
   "cell_type": "code",
   "execution_count": 70,
   "metadata": {},
   "outputs": [],
   "source": [
    "misplaced_guesses = []\n",
    "incorrect_guesses = []\n",
    "max_turns = 5\n",
    "turns_taken = 0\n"
   ]
  },
  {
   "cell_type": "code",
   "execution_count": 71,
   "metadata": {},
   "outputs": [
    {
     "name": "stdout",
     "output_type": "stream",
     "text": [
      "Welcome to Words 4 nerds\n",
      "The word has  5  to guess\n",
      "You have  5 left\n"
     ]
    }
   ],
   "source": [
    "print(\"Welcome to\",game_title)\n",
    "print(\"The word has \",len(words_to_guess),\" to guess\")\n",
    "print(\"You have \",max_turns-turns_taken, \"left\")"
   ]
  },
  {
   "cell_type": "code",
   "execution_count": 73,
   "metadata": {},
   "outputs": [
    {
     "name": "stdin",
     "output_type": "stream",
     "text": [
      "Guess a word:  turns\n"
     ]
    },
    {
     "name": "stdout",
     "output_type": "stream",
     "text": [
      "_ \n",
      "\n",
      "Misplaced letters:  []\n",
      "Incorrect letters:  ['t']\n",
      "You have 4 turns left\n",
      "_ \n",
      "\n",
      "Misplaced letters:  []\n",
      "Incorrect letters:  ['t', 'u']\n",
      "You have 3 turns left\n",
      "_ \n",
      "\n",
      "Misplaced letters:  []\n",
      "Incorrect letters:  ['t', 'u', 'r']\n",
      "You have 2 turns left\n",
      "n _ \n",
      "\n",
      "Misplaced letters:  ['n']\n",
      "Incorrect letters:  ['t', 'u', 'r']\n",
      "You have 1 turns left\n",
      "_ \n",
      "\n",
      "Misplaced letters:  ['n', 's']\n",
      "Incorrect letters:  ['t', 'u', 'r']\n",
      "Sorry,you lost. the word was lions\n"
     ]
    }
   ],
   "source": [
    "while turns_taken < max_turns:\n",
    "    guess = input(\"Guess a word: \").lower()\n",
    "    \n",
    "    if len(guess) != len(words_to_guess) or not guess.isalpha():\n",
    "        print(\"Guess a 5 letter word!\")\n",
    "        continue\n",
    "    \n",
    "    index=0\n",
    "    for c in guess:\n",
    "        if c== words_to_guess[index]:\n",
    "            print(c,end=\" \")\n",
    "        if c in misplaced_guesses:\n",
    "                    misplaced_guesses.remove(c)\n",
    "        elif c in words_to_guess:\n",
    "            misplaced_guesses.append(c)\n",
    "            print(\"_\",end=\" \")\n",
    "        \n",
    "        else:\n",
    "            if c not in incorrect_guesses:\n",
    "                incorrect_guesses.append(c)\n",
    "                print(\"_\", end=\" \")\n",
    "            index +=1\n",
    "        \n",
    "        print(\"\\n\")\n",
    "        print(\"Misplaced letters: \",misplaced_guesses)\n",
    "        print(\"Incorrect letters: \",incorrect_guesses)\n",
    "        turns_taken+=1\n",
    "        \n",
    "       #if player has won \n",
    "        if guess == words_to_guess[index]:\n",
    "            print(\"Congratulations, you win!\")\n",
    "            break\n",
    "            \n",
    "        if turns_taken == max_turns :\n",
    "            print(\"Sorry,you lost. the word was\",words_to_guess)\n",
    "            break\n",
    "            \n",
    "          #print the turns left for the player\n",
    "        print(\"You have\",max_turns-turns_taken,\"turns left\")\n",
    "        \n",
    "            "
   ]
  },
  {
   "cell_type": "code",
   "execution_count": null,
   "metadata": {},
   "outputs": [],
   "source": []
  }
 ],
 "metadata": {
  "kernelspec": {
   "display_name": "Python 3 (ipykernel)",
   "language": "python",
   "name": "python3"
  },
  "language_info": {
   "codemirror_mode": {
    "name": "ipython",
    "version": 3
   },
   "file_extension": ".py",
   "mimetype": "text/x-python",
   "name": "python",
   "nbconvert_exporter": "python",
   "pygments_lexer": "ipython3",
   "version": "3.10.6"
  }
 },
 "nbformat": 4,
 "nbformat_minor": 4
}
